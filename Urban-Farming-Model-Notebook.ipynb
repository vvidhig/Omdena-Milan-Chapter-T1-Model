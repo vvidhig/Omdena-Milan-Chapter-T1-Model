{
 "cells": [
  {
   "cell_type": "code",
   "execution_count": 28,
   "id": "d92cde13-fa46-4497-8178-fcb895908888",
   "metadata": {},
   "outputs": [],
   "source": [
    "import pandas as pd\n",
    "import numpy as np\n",
    "from sklearn.linear_model import LogisticRegression\n",
    "from sklearn.ensemble import RandomForestClassifier\n",
    "from sklearn.tree import DecisionTreeClassifier\n",
    "from matplotlib import pyplot as plt\n",
    "from sklearn.preprocessing import LabelEncoder\n",
    "from sklearn.model_selection import train_test_split, GridSearchCV\n",
    "from sklearn import metrics\n",
    "from sklearn.model_selection import StratifiedKFold\n",
    "import mlflow\n",
    "import mlflow.sklearn\n",
    "import os"
   ]
  },
  {
   "cell_type": "code",
   "execution_count": 2,
   "id": "726e9734-bd8b-4a2d-ad1b-f3e6c3cb1a80",
   "metadata": {},
   "outputs": [],
   "source": [
    "dataset = pd.read_csv(\"dataset/Zone4_2023_labelled.csv\")"
   ]
  },
  {
   "cell_type": "code",
   "execution_count": 3,
   "id": "5573bfde-35d1-4368-82ae-a3cca5b99593",
   "metadata": {},
   "outputs": [],
   "source": [
    "numerical_cols = dataset.select_dtypes(include=['int64', 'float64']).columns.tolist()\n",
    "numerical_cols.remove('urban_farming')"
   ]
  },
  {
   "cell_type": "code",
   "execution_count": 4,
   "id": "ebb62338-8b50-468d-bf0c-2df07ed761db",
   "metadata": {},
   "outputs": [],
   "source": [
    "categorical_cols = dataset.select_dtypes(include=['object']).columns.tolist()"
   ]
  },
  {
   "cell_type": "code",
   "execution_count": 5,
   "id": "40d3cd38-48e7-49e5-b03c-8054668bc94e",
   "metadata": {},
   "outputs": [
    {
     "name": "stderr",
     "output_type": "stream",
     "text": [
      "C:\\Users\\User\\AppData\\Local\\Temp\\ipykernel_12052\\596295965.py:3: FutureWarning: A value is trying to be set on a copy of a DataFrame or Series through chained assignment using an inplace method.\n",
      "The behavior will change in pandas 3.0. This inplace method will never work because the intermediate object on which we are setting values always behaves as a copy.\n",
      "\n",
      "For example, when doing 'df[col].method(value, inplace=True)', try using 'df.method({col: value}, inplace=True)' or df[col] = df[col].method(value) instead, to perform the operation inplace on the original object.\n",
      "\n",
      "\n",
      "  dataset[col].fillna(mode_value, inplace=True)\n"
     ]
    }
   ],
   "source": [
    "for col in categorical_cols:\n",
    "    mode_value = dataset[col].mode()[0]\n",
    "    dataset[col].fillna(mode_value, inplace=True)"
   ]
  },
  {
   "cell_type": "code",
   "execution_count": 6,
   "id": "af076942-2227-448a-b6b5-6553ce15af5e",
   "metadata": {},
   "outputs": [
    {
     "name": "stderr",
     "output_type": "stream",
     "text": [
      "C:\\Users\\User\\AppData\\Local\\Temp\\ipykernel_12052\\1642272609.py:3: FutureWarning: A value is trying to be set on a copy of a DataFrame or Series through chained assignment using an inplace method.\n",
      "The behavior will change in pandas 3.0. This inplace method will never work because the intermediate object on which we are setting values always behaves as a copy.\n",
      "\n",
      "For example, when doing 'df[col].method(value, inplace=True)', try using 'df.method({col: value}, inplace=True)' or df[col] = df[col].method(value) instead, to perform the operation inplace on the original object.\n",
      "\n",
      "\n",
      "  dataset[col].fillna(median_value, inplace=True)\n",
      "C:\\Users\\User\\AppData\\Local\\Temp\\ipykernel_12052\\1642272609.py:3: FutureWarning: A value is trying to be set on a copy of a DataFrame or Series through chained assignment using an inplace method.\n",
      "The behavior will change in pandas 3.0. This inplace method will never work because the intermediate object on which we are setting values always behaves as a copy.\n",
      "\n",
      "For example, when doing 'df[col].method(value, inplace=True)', try using 'df.method({col: value}, inplace=True)' or df[col] = df[col].method(value) instead, to perform the operation inplace on the original object.\n",
      "\n",
      "\n",
      "  dataset[col].fillna(median_value, inplace=True)\n",
      "C:\\Users\\User\\AppData\\Local\\Temp\\ipykernel_12052\\1642272609.py:3: FutureWarning: A value is trying to be set on a copy of a DataFrame or Series through chained assignment using an inplace method.\n",
      "The behavior will change in pandas 3.0. This inplace method will never work because the intermediate object on which we are setting values always behaves as a copy.\n",
      "\n",
      "For example, when doing 'df[col].method(value, inplace=True)', try using 'df.method({col: value}, inplace=True)' or df[col] = df[col].method(value) instead, to perform the operation inplace on the original object.\n",
      "\n",
      "\n",
      "  dataset[col].fillna(median_value, inplace=True)\n",
      "C:\\Users\\User\\AppData\\Local\\Temp\\ipykernel_12052\\1642272609.py:3: FutureWarning: A value is trying to be set on a copy of a DataFrame or Series through chained assignment using an inplace method.\n",
      "The behavior will change in pandas 3.0. This inplace method will never work because the intermediate object on which we are setting values always behaves as a copy.\n",
      "\n",
      "For example, when doing 'df[col].method(value, inplace=True)', try using 'df.method({col: value}, inplace=True)' or df[col] = df[col].method(value) instead, to perform the operation inplace on the original object.\n",
      "\n",
      "\n",
      "  dataset[col].fillna(median_value, inplace=True)\n",
      "C:\\Users\\User\\AppData\\Local\\Temp\\ipykernel_12052\\1642272609.py:3: FutureWarning: A value is trying to be set on a copy of a DataFrame or Series through chained assignment using an inplace method.\n",
      "The behavior will change in pandas 3.0. This inplace method will never work because the intermediate object on which we are setting values always behaves as a copy.\n",
      "\n",
      "For example, when doing 'df[col].method(value, inplace=True)', try using 'df.method({col: value}, inplace=True)' or df[col] = df[col].method(value) instead, to perform the operation inplace on the original object.\n",
      "\n",
      "\n",
      "  dataset[col].fillna(median_value, inplace=True)\n",
      "C:\\Users\\User\\AppData\\Local\\Temp\\ipykernel_12052\\1642272609.py:3: FutureWarning: A value is trying to be set on a copy of a DataFrame or Series through chained assignment using an inplace method.\n",
      "The behavior will change in pandas 3.0. This inplace method will never work because the intermediate object on which we are setting values always behaves as a copy.\n",
      "\n",
      "For example, when doing 'df[col].method(value, inplace=True)', try using 'df.method({col: value}, inplace=True)' or df[col] = df[col].method(value) instead, to perform the operation inplace on the original object.\n",
      "\n",
      "\n",
      "  dataset[col].fillna(median_value, inplace=True)\n",
      "C:\\Users\\User\\AppData\\Local\\Temp\\ipykernel_12052\\1642272609.py:3: FutureWarning: A value is trying to be set on a copy of a DataFrame or Series through chained assignment using an inplace method.\n",
      "The behavior will change in pandas 3.0. This inplace method will never work because the intermediate object on which we are setting values always behaves as a copy.\n",
      "\n",
      "For example, when doing 'df[col].method(value, inplace=True)', try using 'df.method({col: value}, inplace=True)' or df[col] = df[col].method(value) instead, to perform the operation inplace on the original object.\n",
      "\n",
      "\n",
      "  dataset[col].fillna(median_value, inplace=True)\n",
      "C:\\Users\\User\\AppData\\Local\\Temp\\ipykernel_12052\\1642272609.py:3: FutureWarning: A value is trying to be set on a copy of a DataFrame or Series through chained assignment using an inplace method.\n",
      "The behavior will change in pandas 3.0. This inplace method will never work because the intermediate object on which we are setting values always behaves as a copy.\n",
      "\n",
      "For example, when doing 'df[col].method(value, inplace=True)', try using 'df.method({col: value}, inplace=True)' or df[col] = df[col].method(value) instead, to perform the operation inplace on the original object.\n",
      "\n",
      "\n",
      "  dataset[col].fillna(median_value, inplace=True)\n",
      "C:\\Users\\User\\AppData\\Local\\Temp\\ipykernel_12052\\1642272609.py:3: FutureWarning: A value is trying to be set on a copy of a DataFrame or Series through chained assignment using an inplace method.\n",
      "The behavior will change in pandas 3.0. This inplace method will never work because the intermediate object on which we are setting values always behaves as a copy.\n",
      "\n",
      "For example, when doing 'df[col].method(value, inplace=True)', try using 'df.method({col: value}, inplace=True)' or df[col] = df[col].method(value) instead, to perform the operation inplace on the original object.\n",
      "\n",
      "\n",
      "  dataset[col].fillna(median_value, inplace=True)\n",
      "C:\\Users\\User\\AppData\\Local\\Temp\\ipykernel_12052\\1642272609.py:3: FutureWarning: A value is trying to be set on a copy of a DataFrame or Series through chained assignment using an inplace method.\n",
      "The behavior will change in pandas 3.0. This inplace method will never work because the intermediate object on which we are setting values always behaves as a copy.\n",
      "\n",
      "For example, when doing 'df[col].method(value, inplace=True)', try using 'df.method({col: value}, inplace=True)' or df[col] = df[col].method(value) instead, to perform the operation inplace on the original object.\n",
      "\n",
      "\n",
      "  dataset[col].fillna(median_value, inplace=True)\n",
      "C:\\Users\\User\\AppData\\Local\\Temp\\ipykernel_12052\\1642272609.py:3: FutureWarning: A value is trying to be set on a copy of a DataFrame or Series through chained assignment using an inplace method.\n",
      "The behavior will change in pandas 3.0. This inplace method will never work because the intermediate object on which we are setting values always behaves as a copy.\n",
      "\n",
      "For example, when doing 'df[col].method(value, inplace=True)', try using 'df.method({col: value}, inplace=True)' or df[col] = df[col].method(value) instead, to perform the operation inplace on the original object.\n",
      "\n",
      "\n",
      "  dataset[col].fillna(median_value, inplace=True)\n",
      "C:\\Users\\User\\AppData\\Local\\Temp\\ipykernel_12052\\1642272609.py:3: FutureWarning: A value is trying to be set on a copy of a DataFrame or Series through chained assignment using an inplace method.\n",
      "The behavior will change in pandas 3.0. This inplace method will never work because the intermediate object on which we are setting values always behaves as a copy.\n",
      "\n",
      "For example, when doing 'df[col].method(value, inplace=True)', try using 'df.method({col: value}, inplace=True)' or df[col] = df[col].method(value) instead, to perform the operation inplace on the original object.\n",
      "\n",
      "\n",
      "  dataset[col].fillna(median_value, inplace=True)\n",
      "C:\\Users\\User\\AppData\\Local\\Temp\\ipykernel_12052\\1642272609.py:3: FutureWarning: A value is trying to be set on a copy of a DataFrame or Series through chained assignment using an inplace method.\n",
      "The behavior will change in pandas 3.0. This inplace method will never work because the intermediate object on which we are setting values always behaves as a copy.\n",
      "\n",
      "For example, when doing 'df[col].method(value, inplace=True)', try using 'df.method({col: value}, inplace=True)' or df[col] = df[col].method(value) instead, to perform the operation inplace on the original object.\n",
      "\n",
      "\n",
      "  dataset[col].fillna(median_value, inplace=True)\n",
      "C:\\Users\\User\\AppData\\Local\\Temp\\ipykernel_12052\\1642272609.py:3: FutureWarning: A value is trying to be set on a copy of a DataFrame or Series through chained assignment using an inplace method.\n",
      "The behavior will change in pandas 3.0. This inplace method will never work because the intermediate object on which we are setting values always behaves as a copy.\n",
      "\n",
      "For example, when doing 'df[col].method(value, inplace=True)', try using 'df.method({col: value}, inplace=True)' or df[col] = df[col].method(value) instead, to perform the operation inplace on the original object.\n",
      "\n",
      "\n",
      "  dataset[col].fillna(median_value, inplace=True)\n",
      "C:\\Users\\User\\AppData\\Local\\Temp\\ipykernel_12052\\1642272609.py:3: FutureWarning: A value is trying to be set on a copy of a DataFrame or Series through chained assignment using an inplace method.\n",
      "The behavior will change in pandas 3.0. This inplace method will never work because the intermediate object on which we are setting values always behaves as a copy.\n",
      "\n",
      "For example, when doing 'df[col].method(value, inplace=True)', try using 'df.method({col: value}, inplace=True)' or df[col] = df[col].method(value) instead, to perform the operation inplace on the original object.\n",
      "\n",
      "\n",
      "  dataset[col].fillna(median_value, inplace=True)\n",
      "C:\\Users\\User\\AppData\\Local\\Temp\\ipykernel_12052\\1642272609.py:3: FutureWarning: A value is trying to be set on a copy of a DataFrame or Series through chained assignment using an inplace method.\n",
      "The behavior will change in pandas 3.0. This inplace method will never work because the intermediate object on which we are setting values always behaves as a copy.\n",
      "\n",
      "For example, when doing 'df[col].method(value, inplace=True)', try using 'df.method({col: value}, inplace=True)' or df[col] = df[col].method(value) instead, to perform the operation inplace on the original object.\n",
      "\n",
      "\n",
      "  dataset[col].fillna(median_value, inplace=True)\n",
      "C:\\Users\\User\\AppData\\Local\\Temp\\ipykernel_12052\\1642272609.py:3: FutureWarning: A value is trying to be set on a copy of a DataFrame or Series through chained assignment using an inplace method.\n",
      "The behavior will change in pandas 3.0. This inplace method will never work because the intermediate object on which we are setting values always behaves as a copy.\n",
      "\n",
      "For example, when doing 'df[col].method(value, inplace=True)', try using 'df.method({col: value}, inplace=True)' or df[col] = df[col].method(value) instead, to perform the operation inplace on the original object.\n",
      "\n",
      "\n",
      "  dataset[col].fillna(median_value, inplace=True)\n",
      "C:\\Users\\User\\AppData\\Local\\Temp\\ipykernel_12052\\1642272609.py:3: FutureWarning: A value is trying to be set on a copy of a DataFrame or Series through chained assignment using an inplace method.\n",
      "The behavior will change in pandas 3.0. This inplace method will never work because the intermediate object on which we are setting values always behaves as a copy.\n",
      "\n",
      "For example, when doing 'df[col].method(value, inplace=True)', try using 'df.method({col: value}, inplace=True)' or df[col] = df[col].method(value) instead, to perform the operation inplace on the original object.\n",
      "\n",
      "\n",
      "  dataset[col].fillna(median_value, inplace=True)\n",
      "C:\\Users\\User\\AppData\\Local\\Temp\\ipykernel_12052\\1642272609.py:3: FutureWarning: A value is trying to be set on a copy of a DataFrame or Series through chained assignment using an inplace method.\n",
      "The behavior will change in pandas 3.0. This inplace method will never work because the intermediate object on which we are setting values always behaves as a copy.\n",
      "\n",
      "For example, when doing 'df[col].method(value, inplace=True)', try using 'df.method({col: value}, inplace=True)' or df[col] = df[col].method(value) instead, to perform the operation inplace on the original object.\n",
      "\n",
      "\n",
      "  dataset[col].fillna(median_value, inplace=True)\n",
      "C:\\Users\\User\\AppData\\Local\\Temp\\ipykernel_12052\\1642272609.py:3: FutureWarning: A value is trying to be set on a copy of a DataFrame or Series through chained assignment using an inplace method.\n",
      "The behavior will change in pandas 3.0. This inplace method will never work because the intermediate object on which we are setting values always behaves as a copy.\n",
      "\n",
      "For example, when doing 'df[col].method(value, inplace=True)', try using 'df.method({col: value}, inplace=True)' or df[col] = df[col].method(value) instead, to perform the operation inplace on the original object.\n",
      "\n",
      "\n",
      "  dataset[col].fillna(median_value, inplace=True)\n",
      "C:\\Users\\User\\AppData\\Local\\Temp\\ipykernel_12052\\1642272609.py:3: FutureWarning: A value is trying to be set on a copy of a DataFrame or Series through chained assignment using an inplace method.\n",
      "The behavior will change in pandas 3.0. This inplace method will never work because the intermediate object on which we are setting values always behaves as a copy.\n",
      "\n",
      "For example, when doing 'df[col].method(value, inplace=True)', try using 'df.method({col: value}, inplace=True)' or df[col] = df[col].method(value) instead, to perform the operation inplace on the original object.\n",
      "\n",
      "\n",
      "  dataset[col].fillna(median_value, inplace=True)\n",
      "C:\\Users\\User\\AppData\\Local\\Temp\\ipykernel_12052\\1642272609.py:3: FutureWarning: A value is trying to be set on a copy of a DataFrame or Series through chained assignment using an inplace method.\n",
      "The behavior will change in pandas 3.0. This inplace method will never work because the intermediate object on which we are setting values always behaves as a copy.\n",
      "\n",
      "For example, when doing 'df[col].method(value, inplace=True)', try using 'df.method({col: value}, inplace=True)' or df[col] = df[col].method(value) instead, to perform the operation inplace on the original object.\n",
      "\n",
      "\n",
      "  dataset[col].fillna(median_value, inplace=True)\n",
      "C:\\Users\\User\\AppData\\Local\\Temp\\ipykernel_12052\\1642272609.py:3: FutureWarning: A value is trying to be set on a copy of a DataFrame or Series through chained assignment using an inplace method.\n",
      "The behavior will change in pandas 3.0. This inplace method will never work because the intermediate object on which we are setting values always behaves as a copy.\n",
      "\n",
      "For example, when doing 'df[col].method(value, inplace=True)', try using 'df.method({col: value}, inplace=True)' or df[col] = df[col].method(value) instead, to perform the operation inplace on the original object.\n",
      "\n",
      "\n",
      "  dataset[col].fillna(median_value, inplace=True)\n",
      "C:\\Users\\User\\AppData\\Local\\Temp\\ipykernel_12052\\1642272609.py:3: FutureWarning: A value is trying to be set on a copy of a DataFrame or Series through chained assignment using an inplace method.\n",
      "The behavior will change in pandas 3.0. This inplace method will never work because the intermediate object on which we are setting values always behaves as a copy.\n",
      "\n",
      "For example, when doing 'df[col].method(value, inplace=True)', try using 'df.method({col: value}, inplace=True)' or df[col] = df[col].method(value) instead, to perform the operation inplace on the original object.\n",
      "\n",
      "\n",
      "  dataset[col].fillna(median_value, inplace=True)\n",
      "C:\\Users\\User\\AppData\\Local\\Temp\\ipykernel_12052\\1642272609.py:3: FutureWarning: A value is trying to be set on a copy of a DataFrame or Series through chained assignment using an inplace method.\n",
      "The behavior will change in pandas 3.0. This inplace method will never work because the intermediate object on which we are setting values always behaves as a copy.\n",
      "\n",
      "For example, when doing 'df[col].method(value, inplace=True)', try using 'df.method({col: value}, inplace=True)' or df[col] = df[col].method(value) instead, to perform the operation inplace on the original object.\n",
      "\n",
      "\n",
      "  dataset[col].fillna(median_value, inplace=True)\n",
      "C:\\Users\\User\\AppData\\Local\\Temp\\ipykernel_12052\\1642272609.py:3: FutureWarning: A value is trying to be set on a copy of a DataFrame or Series through chained assignment using an inplace method.\n",
      "The behavior will change in pandas 3.0. This inplace method will never work because the intermediate object on which we are setting values always behaves as a copy.\n",
      "\n",
      "For example, when doing 'df[col].method(value, inplace=True)', try using 'df.method({col: value}, inplace=True)' or df[col] = df[col].method(value) instead, to perform the operation inplace on the original object.\n",
      "\n",
      "\n",
      "  dataset[col].fillna(median_value, inplace=True)\n"
     ]
    }
   ],
   "source": [
    "for col in numerical_cols:\n",
    "    median_value = dataset[col].median()\n",
    "    dataset[col].fillna(median_value, inplace=True)"
   ]
  },
  {
   "cell_type": "code",
   "execution_count": 7,
   "id": "e21219ac-7182-4f99-91e2-f3cff3f07058",
   "metadata": {},
   "outputs": [],
   "source": [
    "dataset[numerical_cols] = dataset[numerical_cols].apply(lambda x: x.clip(lower=x.quantile(0.05), upper=x.quantile(0.95)))"
   ]
  },
  {
   "cell_type": "code",
   "execution_count": 8,
   "id": "c4396081-9356-46c4-b3cf-34aa3c107ddc",
   "metadata": {},
   "outputs": [],
   "source": [
    "log_columns = ['GHI (kWh/m2)', 'NDBI', 'NDVI', 'BU', 'slope', 'surface_roughness', 'classes',\n",
    "               'CO_column_number_density_x', 'NO2_column_number_density_x', 'O3_column_number_density_x', \n",
    "               'SO2_column_number_density_x', 'CO_column_number_density_y', 'NO2_column_number_density_y', \n",
    "               'O3_column_number_density_y', 'SO2_column_number_density_y', 'ST_B10', 'NDWI', \n",
    "               'soil_moisture', 'SAVI']"
   ]
  },
  {
   "cell_type": "code",
   "execution_count": 9,
   "id": "de1d38dd-1e96-4e4a-b939-046957095eb9",
   "metadata": {},
   "outputs": [],
   "source": [
    "for col in log_columns:\n",
    "    dataset[col] = dataset[col].apply(lambda x: np.log(x) if x > 0 else x)"
   ]
  },
  {
   "cell_type": "code",
   "execution_count": 10,
   "id": "42edfc40-8c0e-4c58-8c99-096f7b9d7f2b",
   "metadata": {},
   "outputs": [],
   "source": [
    "drop_columns = ['CH4_column_volume_mixing_ratio_dry_air_x', 'tropospheric_HCHO_column_number_density_x', \n",
    "                'CH4_column_volume_mixing_ratio_dry_air_y', 'tropospheric_HCHO_column_number_density_y', \n",
    "                'cluster']\n",
    "dataset.drop(columns=drop_columns, inplace=True)"
   ]
  },
  {
   "cell_type": "code",
   "execution_count": 11,
   "id": "640f7afa-5438-4d62-92de-60271da877a4",
   "metadata": {},
   "outputs": [],
   "source": [
    "for col in categorical_cols:\n",
    "    le = LabelEncoder()\n",
    "    dataset[col] = le.fit_transform(dataset[col])"
   ]
  },
  {
   "cell_type": "code",
   "execution_count": 12,
   "id": "24f1ad15-e986-4be1-b389-f125f11fd4b1",
   "metadata": {},
   "outputs": [],
   "source": [
    "X = dataset.drop(columns=['urban_farming'])\n",
    "y = dataset['urban_farming']\n",
    "RANDOM_SEED = 6"
   ]
  },
  {
   "cell_type": "code",
   "execution_count": 13,
   "id": "be16e7b7-41c7-47c3-95e4-250f0dd9c25d",
   "metadata": {},
   "outputs": [
    {
     "name": "stdout",
     "output_type": "stream",
     "text": [
      "Y value counts : urban_farming\n",
      "0    60751\n",
      "1     2603\n",
      "Name: count, dtype: int64\n"
     ]
    }
   ],
   "source": [
    "print(\"Y value counts :\", y.value_counts())"
   ]
  },
  {
   "cell_type": "code",
   "execution_count": 14,
   "id": "e17d65d2-8972-4cd8-989b-9ce5282f128a",
   "metadata": {},
   "outputs": [],
   "source": [
    "X_train, X_test, y_train, y_test = train_test_split(X, y, test_size=0.3, random_state=RANDOM_SEED, stratify=y)"
   ]
  },
  {
   "cell_type": "code",
   "execution_count": 15,
   "id": "b87a433c-b846-46ca-98b3-636cf8d27147",
   "metadata": {},
   "outputs": [
    {
     "name": "stdout",
     "output_type": "stream",
     "text": [
      "Y_Train value counts urban_farming\n",
      "0    42525\n",
      "1     1822\n",
      "Name: count, dtype: int64\n"
     ]
    }
   ],
   "source": [
    "print(\"Y_Train value counts\", y_train.value_counts())"
   ]
  },
  {
   "cell_type": "code",
   "execution_count": 16,
   "id": "1a01d793-8f66-46c4-bd37-e472281506bc",
   "metadata": {},
   "outputs": [],
   "source": [
    "rf = RandomForestClassifier(random_state=RANDOM_SEED)\n",
    "param_grid_forest = {\n",
    "    'n_estimators': [200, 400, 700],\n",
    "    'max_depth': [10, 20, 30],\n",
    "    'criterion': [\"gini\", \"entropy\"],\n",
    "    'max_leaf_nodes': [50, 100]\n",
    "}"
   ]
  },
  {
   "cell_type": "code",
   "execution_count": 18,
   "id": "d3fc0992-d07c-4c9b-a389-86a44a616209",
   "metadata": {},
   "outputs": [],
   "source": [
    "cv = StratifiedKFold(n_splits=5, shuffle=True, random_state=RANDOM_SEED)\n",
    "\n",
    "grid_forest = GridSearchCV(\n",
    "    estimator=rf,\n",
    "    param_grid=param_grid_forest,\n",
    "    cv=cv,\n",
    "    n_jobs=-1,\n",
    "    scoring='accuracy',\n",
    "    verbose=0\n",
    ")\n",
    "model_forest = grid_forest.fit(X_train, y_train)"
   ]
  },
  {
   "cell_type": "code",
   "execution_count": 19,
   "id": "5e91353d-3f03-4417-b747-8bd8e8a273d5",
   "metadata": {},
   "outputs": [],
   "source": [
    "lr = LogisticRegression(random_state=RANDOM_SEED)\n",
    "param_grid_log = {\n",
    "    'C': [100, 10, 1.0, 0.1, 0.01],\n",
    "    'penalty': ['l1', 'l2'],\n",
    "    'solver': ['liblinear']\n",
    "}"
   ]
  },
  {
   "cell_type": "code",
   "execution_count": 20,
   "id": "b83d8bd6-dc5f-4c87-9678-0e3b286fc76e",
   "metadata": {},
   "outputs": [
    {
     "name": "stderr",
     "output_type": "stream",
     "text": [
      "C:\\Users\\User\\miniconda3\\Lib\\site-packages\\sklearn\\svm\\_base.py:1235: ConvergenceWarning: Liblinear failed to converge, increase the number of iterations.\n",
      "  warnings.warn(\n"
     ]
    }
   ],
   "source": [
    "grid_log = GridSearchCV(\n",
    "    estimator=lr,\n",
    "    param_grid=param_grid_log,\n",
    "    cv=5,\n",
    "    n_jobs=-1,\n",
    "    scoring='accuracy',\n",
    "    verbose=0\n",
    ")\n",
    "model_log = grid_log.fit(X_train, y_train)"
   ]
  },
  {
   "cell_type": "code",
   "execution_count": 21,
   "id": "f8958709-a029-41f8-86eb-3d80429c1195",
   "metadata": {},
   "outputs": [],
   "source": [
    "dt = DecisionTreeClassifier(random_state=RANDOM_SEED)\n",
    "\n",
    "param_grid_tree = {\n",
    "    \"max_depth\": [3, 5, 7, 9, 11, 13],\n",
    "    'criterion': [\"gini\", \"entropy\"],\n",
    "}\n",
    "\n",
    "grid_tree = GridSearchCV(\n",
    "    estimator=dt,\n",
    "    param_grid=param_grid_tree,\n",
    "    cv=5,\n",
    "    n_jobs=-1,\n",
    "    scoring='accuracy',\n",
    "    verbose=0\n",
    ")\n",
    "model_tree = grid_tree.fit(X_train, y_train)"
   ]
  },
  {
   "cell_type": "code",
   "execution_count": 24,
   "id": "a28b13b0-2749-4a2c-9e2d-497b31ee8ed0",
   "metadata": {},
   "outputs": [],
   "source": [
    "def eval_metrics(actual, pred):\n",
    "    accuracy = metrics.accuracy_score(actual, pred)\n",
    "    f1 = metrics.f1_score(actual, pred, pos_label=1)\n",
    "    fpr, tpr, _ = metrics.roc_curve(actual, pred)\n",
    "    auc = metrics.auc(fpr, tpr)\n",
    "    plt.figure(figsize=(8, 8))\n",
    "    plt.plot(fpr, tpr, color='blue', label='ROC curve area = %0.2f' % auc)\n",
    "    plt.plot([0, 1], [0, 1], 'r--')\n",
    "    plt.xlim([-0.1, 1.1])\n",
    "    plt.ylim([-0.1, 1.1])\n",
    "    plt.xlabel('False Positive Rate', size=14)\n",
    "    plt.ylabel('True Positive Rate', size=14)\n",
    "    plt.legend(loc='lower right')\n",
    "    os.makedirs(\"plot\", exist_ok=True)\n",
    "    plt.savefig(\"plot/ROC_curve.png\")\n",
    "    plt.close()\n",
    "    return accuracy, f1, auc"
   ]
  },
  {
   "cell_type": "code",
   "execution_count": 30,
   "id": "1c6cfde8-da6d-45b8-997e-e03c6518f742",
   "metadata": {},
   "outputs": [],
   "source": [
    "def model_metrics(model, X, y, name):\n",
    "    pred = model.predict(X)\n",
    "    accuracy, f1, auc = eval_metrics(y, pred)\n",
    "    print(\"\\n\")\n",
    "    print(\"Model --> \", model, name)\n",
    "    print(\"Mean CV score\", model.best_score_)\n",
    "    print(\"Accuracy\", accuracy)\n",
    "    print(\"f1-score\", f1)\n",
    "    print(\"AUC\", auc)"
   ]
  },
  {
   "cell_type": "code",
   "execution_count": 31,
   "id": "49f5ef51-84fd-4742-8852-07a9f56f0b22",
   "metadata": {},
   "outputs": [
    {
     "name": "stdout",
     "output_type": "stream",
     "text": [
      "\n",
      "\n",
      "Model -->  GridSearchCV(cv=5, estimator=DecisionTreeClassifier(random_state=6), n_jobs=-1,\n",
      "             param_grid={'criterion': ['gini', 'entropy'],\n",
      "                         'max_depth': [3, 5, 7, 9, 11, 13]},\n",
      "             scoring='accuracy') DecisionTreeClassifier\n",
      "Mean CV score 0.9902586501784778\n",
      "Accuracy 0.989004051139054\n",
      "f1-score 0.866111467008328\n",
      "AUC 0.9299254220694417\n",
      "\n",
      "\n",
      "Model -->  GridSearchCV(cv=5, estimator=LogisticRegression(random_state=6), n_jobs=-1,\n",
      "             param_grid={'C': [100, 10, 1.0, 0.1, 0.01],\n",
      "                         'penalty': ['l1', 'l2'], 'solver': ['liblinear']},\n",
      "             scoring='accuracy') LogisticRegression\n",
      "Mean CV score 0.9712946390039259\n",
      "Accuracy 0.9698005997790288\n",
      "f1-score 0.5980392156862745\n",
      "AUC 0.7673321434547851\n",
      "\n",
      "\n",
      "Model -->  GridSearchCV(cv=StratifiedKFold(n_splits=5, random_state=6, shuffle=True),\n",
      "             estimator=RandomForestClassifier(random_state=6), n_jobs=-1,\n",
      "             param_grid={'criterion': ['gini', 'entropy'],\n",
      "                         'max_depth': [10, 20, 30], 'max_leaf_nodes': [50, 100],\n",
      "                         'n_estimators': [200, 400, 700]},\n",
      "             scoring='accuracy') RandomForestClassifier\n",
      "Mean CV score 0.9904615763226815\n",
      "Accuracy 0.9895827852896302\n",
      "f1-score 0.8699080157687253\n",
      "AUC 0.9216483873764217\n"
     ]
    }
   ],
   "source": [
    "model_metrics(model_tree, X_test, y_test, \"DecisionTreeClassifier\")\n",
    "model_metrics(model_log, X_test, y_test, \"LogisticRegression\")\n",
    "model_metrics(model_forest, X_test, y_test, \"RandomForestClassifier\")"
   ]
  },
  {
   "cell_type": "markdown",
   "id": "74e1dd31-aea1-4a86-9384-da571b22d91b",
   "metadata": {},
   "source": [
    "# My Analysis\n",
    "\n",
    "Here is the ROC curve:\n",
    "\n",
    "![ROC Curve](plot/ROC_curve.png)"
   ]
  }
 ],
 "metadata": {
  "kernelspec": {
   "display_name": "Python 3 (ipykernel)",
   "language": "python",
   "name": "python3"
  },
  "language_info": {
   "codemirror_mode": {
    "name": "ipython",
    "version": 3
   },
   "file_extension": ".py",
   "mimetype": "text/x-python",
   "name": "python",
   "nbconvert_exporter": "python",
   "pygments_lexer": "ipython3",
   "version": "3.12.2"
  }
 },
 "nbformat": 4,
 "nbformat_minor": 5
}
