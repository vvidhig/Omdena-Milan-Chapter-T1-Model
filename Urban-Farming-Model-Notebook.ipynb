{
 "cells": [
  {
   "cell_type": "code",
   "execution_count": 1,
   "id": "d92cde13-fa46-4497-8178-fcb895908888",
   "metadata": {},
   "outputs": [],
   "source": [
    "import pandas as pd\n",
    "import numpy as np\n",
    "from sklearn.linear_model import LogisticRegression\n",
    "from sklearn.ensemble import RandomForestClassifier\n",
    "from sklearn.tree import DecisionTreeClassifier\n",
    "from matplotlib import pyplot as plt\n",
    "from sklearn.preprocessing import LabelEncoder\n",
    "from sklearn.model_selection import train_test_split, GridSearchCV\n",
    "from sklearn import metrics\n",
    "from sklearn.model_selection import StratifiedKFold\n",
    "import mlflow\n",
    "import mlflow.sklearn\n",
    "import os\n",
    "\n",
    "import warnings\n",
    "warnings.filterwarnings('ignore')"
   ]
  },
  {
   "cell_type": "code",
   "execution_count": 2,
   "id": "726e9734-bd8b-4a2d-ad1b-f3e6c3cb1a80",
   "metadata": {},
   "outputs": [],
   "source": [
    "dataset = pd.read_csv(\"dataset/Merged_2014.csv\")"
   ]
  },
  {
   "cell_type": "code",
   "execution_count": 3,
   "id": "b829f948-0130-410a-becb-32f713c2f6f2",
   "metadata": {},
   "outputs": [
    {
     "data": {
      "text/html": [
       "<div>\n",
       "<style scoped>\n",
       "    .dataframe tbody tr th:only-of-type {\n",
       "        vertical-align: middle;\n",
       "    }\n",
       "\n",
       "    .dataframe tbody tr th {\n",
       "        vertical-align: top;\n",
       "    }\n",
       "\n",
       "    .dataframe thead th {\n",
       "        text-align: right;\n",
       "    }\n",
       "</style>\n",
       "<table border=\"1\" class=\"dataframe\">\n",
       "  <thead>\n",
       "    <tr style=\"text-align: right;\">\n",
       "      <th></th>\n",
       "      <th>Latitude</th>\n",
       "      <th>Longitude</th>\n",
       "      <th>Zone</th>\n",
       "      <th>NDVI</th>\n",
       "      <th>landuse</th>\n",
       "      <th>LST</th>\n",
       "      <th>NDBI</th>\n",
       "      <th>NDWI</th>\n",
       "      <th>Roughness</th>\n",
       "      <th>SAVI</th>\n",
       "      <th>Slope</th>\n",
       "      <th>SMI</th>\n",
       "      <th>solar_radiation</th>\n",
       "      <th>Suitable_Areas</th>\n",
       "    </tr>\n",
       "  </thead>\n",
       "  <tbody>\n",
       "    <tr>\n",
       "      <th>0</th>\n",
       "      <td>45.47236</td>\n",
       "      <td>9.202701</td>\n",
       "      <td>zone4</td>\n",
       "      <td>0.412452</td>\n",
       "      <td>grass</td>\n",
       "      <td>121.681648</td>\n",
       "      <td>-0.198779</td>\n",
       "      <td>-0.405585</td>\n",
       "      <td>0</td>\n",
       "      <td>0.618560</td>\n",
       "      <td>0.0</td>\n",
       "      <td>0.172691</td>\n",
       "      <td>471.567100</td>\n",
       "      <td>0</td>\n",
       "    </tr>\n",
       "    <tr>\n",
       "      <th>1</th>\n",
       "      <td>45.47236</td>\n",
       "      <td>9.202971</td>\n",
       "      <td>zone4</td>\n",
       "      <td>0.413815</td>\n",
       "      <td>grass</td>\n",
       "      <td>121.681648</td>\n",
       "      <td>-0.200118</td>\n",
       "      <td>-0.406559</td>\n",
       "      <td>0</td>\n",
       "      <td>0.620604</td>\n",
       "      <td>0.0</td>\n",
       "      <td>0.174177</td>\n",
       "      <td>471.546965</td>\n",
       "      <td>0</td>\n",
       "    </tr>\n",
       "    <tr>\n",
       "      <th>2</th>\n",
       "      <td>45.47236</td>\n",
       "      <td>9.203240</td>\n",
       "      <td>zone4</td>\n",
       "      <td>0.415186</td>\n",
       "      <td>grass</td>\n",
       "      <td>121.681648</td>\n",
       "      <td>-0.201389</td>\n",
       "      <td>-0.407536</td>\n",
       "      <td>0</td>\n",
       "      <td>0.622661</td>\n",
       "      <td>0.0</td>\n",
       "      <td>0.175687</td>\n",
       "      <td>471.528761</td>\n",
       "      <td>0</td>\n",
       "    </tr>\n",
       "    <tr>\n",
       "      <th>3</th>\n",
       "      <td>45.47236</td>\n",
       "      <td>9.203510</td>\n",
       "      <td>zone4</td>\n",
       "      <td>0.416562</td>\n",
       "      <td>grass</td>\n",
       "      <td>121.681648</td>\n",
       "      <td>-0.202568</td>\n",
       "      <td>-0.408515</td>\n",
       "      <td>0</td>\n",
       "      <td>0.624726</td>\n",
       "      <td>0.0</td>\n",
       "      <td>0.177219</td>\n",
       "      <td>471.512966</td>\n",
       "      <td>0</td>\n",
       "    </tr>\n",
       "    <tr>\n",
       "      <th>4</th>\n",
       "      <td>45.47236</td>\n",
       "      <td>9.203779</td>\n",
       "      <td>zone4</td>\n",
       "      <td>0.417939</td>\n",
       "      <td>grass</td>\n",
       "      <td>121.681648</td>\n",
       "      <td>-0.203623</td>\n",
       "      <td>-0.409490</td>\n",
       "      <td>0</td>\n",
       "      <td>0.626792</td>\n",
       "      <td>0.0</td>\n",
       "      <td>0.178773</td>\n",
       "      <td>471.500123</td>\n",
       "      <td>0</td>\n",
       "    </tr>\n",
       "  </tbody>\n",
       "</table>\n",
       "</div>"
      ],
      "text/plain": [
       "   Latitude  Longitude   Zone      NDVI landuse         LST      NDBI  \\\n",
       "0  45.47236   9.202701  zone4  0.412452   grass  121.681648 -0.198779   \n",
       "1  45.47236   9.202971  zone4  0.413815   grass  121.681648 -0.200118   \n",
       "2  45.47236   9.203240  zone4  0.415186   grass  121.681648 -0.201389   \n",
       "3  45.47236   9.203510  zone4  0.416562   grass  121.681648 -0.202568   \n",
       "4  45.47236   9.203779  zone4  0.417939   grass  121.681648 -0.203623   \n",
       "\n",
       "       NDWI  Roughness      SAVI  Slope       SMI  solar_radiation  \\\n",
       "0 -0.405585          0  0.618560    0.0  0.172691       471.567100   \n",
       "1 -0.406559          0  0.620604    0.0  0.174177       471.546965   \n",
       "2 -0.407536          0  0.622661    0.0  0.175687       471.528761   \n",
       "3 -0.408515          0  0.624726    0.0  0.177219       471.512966   \n",
       "4 -0.409490          0  0.626792    0.0  0.178773       471.500123   \n",
       "\n",
       "   Suitable_Areas  \n",
       "0               0  \n",
       "1               0  \n",
       "2               0  \n",
       "3               0  \n",
       "4               0  "
      ]
     },
     "execution_count": 3,
     "metadata": {},
     "output_type": "execute_result"
    }
   ],
   "source": [
    "dataset.head()"
   ]
  },
  {
   "cell_type": "code",
   "execution_count": 4,
   "id": "5573bfde-35d1-4368-82ae-a3cca5b99593",
   "metadata": {},
   "outputs": [],
   "source": [
    "numerical_cols = dataset.select_dtypes(include=['int64', 'float64']).columns.tolist()\n",
    "numerical_cols.remove('Suitable_Areas')"
   ]
  },
  {
   "cell_type": "code",
   "execution_count": 5,
   "id": "ebb62338-8b50-468d-bf0c-2df07ed761db",
   "metadata": {},
   "outputs": [],
   "source": [
    "categorical_cols = dataset.select_dtypes(include=['object']).columns.tolist()"
   ]
  },
  {
   "cell_type": "code",
   "execution_count": 6,
   "id": "40d3cd38-48e7-49e5-b03c-8054668bc94e",
   "metadata": {},
   "outputs": [],
   "source": [
    "for col in categorical_cols:\n",
    "    mode_value = dataset[col].mode()[0]\n",
    "    dataset[col].fillna(mode_value, inplace=True)"
   ]
  },
  {
   "cell_type": "code",
   "execution_count": 7,
   "id": "af076942-2227-448a-b6b5-6553ce15af5e",
   "metadata": {},
   "outputs": [],
   "source": [
    "for col in numerical_cols:\n",
    "    median_value = dataset[col].median()\n",
    "    dataset[col].fillna(median_value, inplace=True)"
   ]
  },
  {
   "cell_type": "code",
   "execution_count": 8,
   "id": "e21219ac-7182-4f99-91e2-f3cff3f07058",
   "metadata": {},
   "outputs": [],
   "source": [
    "dataset[numerical_cols] = dataset[numerical_cols].apply(lambda x: x.clip(lower=x.quantile(0.05), upper=x.quantile(0.95)))"
   ]
  },
  {
   "cell_type": "code",
   "execution_count": 9,
   "id": "c4396081-9356-46c4-b3cf-34aa3c107ddc",
   "metadata": {},
   "outputs": [],
   "source": [
    "log_columns = [\"NDVI\", \"LST\", \"NDBI\", \"NDWI\", \"Roughness\", \"SAVI\", \"Slope\", \"SMI\", \"solar_radiation\"]"
   ]
  },
  {
   "cell_type": "code",
   "execution_count": 10,
   "id": "de1d38dd-1e96-4e4a-b939-046957095eb9",
   "metadata": {},
   "outputs": [],
   "source": [
    "for col in log_columns:\n",
    "    dataset[col] = dataset[col].apply(lambda x: np.log(x) if x > 0 else x)"
   ]
  },
  {
   "cell_type": "code",
   "execution_count": 11,
   "id": "640f7afa-5438-4d62-92de-60271da877a4",
   "metadata": {},
   "outputs": [],
   "source": [
    "for col in categorical_cols:\n",
    "    le = LabelEncoder()\n",
    "    dataset[col] = le.fit_transform(dataset[col])"
   ]
  },
  {
   "cell_type": "code",
   "execution_count": 12,
   "id": "24f1ad15-e986-4be1-b389-f125f11fd4b1",
   "metadata": {},
   "outputs": [],
   "source": [
    "X = dataset.drop(columns=['Suitable_Areas'])\n",
    "y = dataset['Suitable_Areas']\n",
    "RANDOM_SEED = 6"
   ]
  },
  {
   "cell_type": "code",
   "execution_count": 13,
   "id": "be16e7b7-41c7-47c3-95e4-250f0dd9c25d",
   "metadata": {},
   "outputs": [
    {
     "name": "stdout",
     "output_type": "stream",
     "text": [
      "Y value counts : Suitable_Areas\n",
      "0    80436\n",
      "1    37158\n",
      "Name: count, dtype: int64\n"
     ]
    }
   ],
   "source": [
    "print(\"Y value counts :\", y.value_counts())"
   ]
  },
  {
   "cell_type": "code",
   "execution_count": 14,
   "id": "e17d65d2-8972-4cd8-989b-9ce5282f128a",
   "metadata": {},
   "outputs": [],
   "source": [
    "X_train, X_test, y_train, y_test = train_test_split(X, y, test_size=0.3, random_state=RANDOM_SEED, stratify=y)"
   ]
  },
  {
   "cell_type": "code",
   "execution_count": 15,
   "id": "b87a433c-b846-46ca-98b3-636cf8d27147",
   "metadata": {},
   "outputs": [
    {
     "name": "stdout",
     "output_type": "stream",
     "text": [
      "Y_Train value counts Suitable_Areas\n",
      "0    56305\n",
      "1    26010\n",
      "Name: count, dtype: int64\n"
     ]
    }
   ],
   "source": [
    "print(\"Y_Train value counts\", y_train.value_counts())"
   ]
  },
  {
   "cell_type": "code",
   "execution_count": 16,
   "id": "1a01d793-8f66-46c4-bd37-e472281506bc",
   "metadata": {},
   "outputs": [],
   "source": [
    "rf = RandomForestClassifier(random_state=RANDOM_SEED)\n",
    "param_grid_forest = {\n",
    "    'n_estimators': [200, 400, 700],\n",
    "    'max_depth': [10, 20, 30],\n",
    "    'criterion': [\"gini\", \"entropy\"],\n",
    "    'max_leaf_nodes': [50, 100]\n",
    "}"
   ]
  },
  {
   "cell_type": "code",
   "execution_count": 17,
   "id": "d3fc0992-d07c-4c9b-a389-86a44a616209",
   "metadata": {},
   "outputs": [],
   "source": [
    "cv = StratifiedKFold(n_splits=5, shuffle=True, random_state=RANDOM_SEED)\n",
    "\n",
    "grid_forest = GridSearchCV(\n",
    "    estimator=rf,\n",
    "    param_grid=param_grid_forest,\n",
    "    cv=cv,\n",
    "    n_jobs=-1,\n",
    "    scoring='accuracy',\n",
    "    verbose=0\n",
    ")\n",
    "model_forest = grid_forest.fit(X_train, y_train)"
   ]
  },
  {
   "cell_type": "code",
   "execution_count": 18,
   "id": "5e91353d-3f03-4417-b747-8bd8e8a273d5",
   "metadata": {},
   "outputs": [],
   "source": [
    "lr = LogisticRegression(random_state=RANDOM_SEED)\n",
    "param_grid_log = {\n",
    "    'C': [100, 10, 1.0, 0.1, 0.01],\n",
    "    'penalty': ['l1', 'l2'],\n",
    "    'solver': ['liblinear']\n",
    "}"
   ]
  },
  {
   "cell_type": "code",
   "execution_count": null,
   "id": "b83d8bd6-dc5f-4c87-9678-0e3b286fc76e",
   "metadata": {},
   "outputs": [],
   "source": [
    "grid_log = GridSearchCV(\n",
    "    estimator=lr,\n",
    "    param_grid=param_grid_log,\n",
    "    cv=5,\n",
    "    n_jobs=-1,\n",
    "    scoring='accuracy',\n",
    "    verbose=0\n",
    ")\n",
    "model_log = grid_log.fit(X_train, y_train)"
   ]
  },
  {
   "cell_type": "code",
   "execution_count": null,
   "id": "f8958709-a029-41f8-86eb-3d80429c1195",
   "metadata": {},
   "outputs": [],
   "source": [
    "dt = DecisionTreeClassifier(random_state=RANDOM_SEED)\n",
    "\n",
    "param_grid_tree = {\n",
    "    \"max_depth\": [3, 5, 7, 9, 11, 13],\n",
    "    'criterion': [\"gini\", \"entropy\"],\n",
    "}\n",
    "\n",
    "grid_tree = GridSearchCV(\n",
    "    estimator=dt,\n",
    "    param_grid=param_grid_tree,\n",
    "    cv=5,\n",
    "    n_jobs=-1,\n",
    "    scoring='accuracy',\n",
    "    verbose=0\n",
    ")\n",
    "model_tree = grid_tree.fit(X_train, y_train)"
   ]
  },
  {
   "cell_type": "code",
   "execution_count": null,
   "id": "a28b13b0-2749-4a2c-9e2d-497b31ee8ed0",
   "metadata": {},
   "outputs": [],
   "source": [
    "def eval_metrics(actual, pred):\n",
    "    accuracy = metrics.accuracy_score(actual, pred)\n",
    "    f1 = metrics.f1_score(actual, pred, pos_label=1)\n",
    "    fpr, tpr, _ = metrics.roc_curve(actual, pred)\n",
    "    auc = metrics.auc(fpr, tpr)\n",
    "    plt.figure(figsize=(8, 8))\n",
    "    plt.plot(fpr, tpr, color='blue', label='ROC curve area = %0.2f' % auc)\n",
    "    plt.plot([0, 1], [0, 1], 'r--')\n",
    "    plt.xlim([-0.1, 1.1])\n",
    "    plt.ylim([-0.1, 1.1])\n",
    "    plt.xlabel('False Positive Rate', size=14)\n",
    "    plt.ylabel('True Positive Rate', size=14)\n",
    "    plt.legend(loc='lower right')\n",
    "    os.makedirs(\"plot\", exist_ok=True)\n",
    "    plt.savefig(\"plot/ROC_curve.png\")\n",
    "    plt.close()\n",
    "    return accuracy, f1, auc"
   ]
  },
  {
   "cell_type": "code",
   "execution_count": null,
   "id": "1c6cfde8-da6d-45b8-997e-e03c6518f742",
   "metadata": {},
   "outputs": [],
   "source": [
    "def model_metrics(model, X, y, name):\n",
    "    pred = model.predict(X)\n",
    "    accuracy, f1, auc = eval_metrics(y, pred)\n",
    "    print(\"\\n\")\n",
    "    print(\"Model --> \", model, name)\n",
    "    print(\"Mean CV score\", model.best_score_)\n",
    "    print(\"Accuracy\", accuracy)\n",
    "    print(\"f1-score\", f1)\n",
    "    print(\"AUC\", auc)"
   ]
  },
  {
   "cell_type": "code",
   "execution_count": null,
   "id": "49f5ef51-84fd-4742-8852-07a9f56f0b22",
   "metadata": {},
   "outputs": [],
   "source": [
    "model_metrics(model_tree, X_test, y_test, \"DecisionTreeClassifier\")\n",
    "model_metrics(model_log, X_test, y_test, \"LogisticRegression\")\n",
    "model_metrics(model_forest, X_test, y_test, \"RandomForestClassifier\")"
   ]
  },
  {
   "cell_type": "markdown",
   "id": "74e1dd31-aea1-4a86-9384-da571b22d91b",
   "metadata": {},
   "source": [
    "# My Analysis\n",
    "\n",
    "Here is the ROC curve:\n",
    "\n",
    "![ROC Curve](plot/ROC_curve.png)"
   ]
  }
 ],
 "metadata": {
  "kernelspec": {
   "display_name": "Python 3 (ipykernel)",
   "language": "python",
   "name": "python3"
  },
  "language_info": {
   "codemirror_mode": {
    "name": "ipython",
    "version": 3
   },
   "file_extension": ".py",
   "mimetype": "text/x-python",
   "name": "python",
   "nbconvert_exporter": "python",
   "pygments_lexer": "ipython3",
   "version": "3.12.2"
  }
 },
 "nbformat": 4,
 "nbformat_minor": 5
}
